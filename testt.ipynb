{
 "cells": [
  {
   "cell_type": "code",
   "execution_count": 1,
   "id": "3737856d-5b5b-4c35-9c16-db15a0db796e",
   "metadata": {},
   "outputs": [],
   "source": [
    "import glob"
   ]
  },
  {
   "cell_type": "code",
   "execution_count": 2,
   "id": "7f11ef2e-5775-41e7-a8ed-f6bef97f544a",
   "metadata": {},
   "outputs": [],
   "source": [
    "import os"
   ]
  },
  {
   "cell_type": "code",
   "execution_count": 3,
   "id": "49e27385-62c4-4f7b-961e-1d7d146ae644",
   "metadata": {},
   "outputs": [],
   "source": [
    "import cv2"
   ]
  },
  {
   "cell_type": "code",
   "execution_count": 4,
   "id": "b4e0ea39-1154-4efd-9a8f-e1066db34da4",
   "metadata": {},
   "outputs": [],
   "source": [
    "import numpy as np"
   ]
  },
  {
   "cell_type": "code",
   "execution_count": 5,
   "id": "04cff0f8-b5d9-4a21-8ce9-80c95336f0ff",
   "metadata": {},
   "outputs": [],
   "source": [
    "from glob import glob"
   ]
  },
  {
   "cell_type": "code",
   "execution_count": 6,
   "id": "778d1fa4-770d-41a3-b68b-9d1eb02a26cd",
   "metadata": {},
   "outputs": [],
   "source": [
    "import logging"
   ]
  },
  {
   "cell_type": "code",
   "execution_count": 8,
   "id": "aab48a13-ce58-4b5a-bf6b-9d05707c99c2",
   "metadata": {},
   "outputs": [],
   "source": [
    "from tensorflow.keras.applications.resnet_v2 import ResNet50V2, preprocess_input"
   ]
  },
  {
   "cell_type": "code",
   "execution_count": 9,
   "id": "8a560763-6a0b-4bfa-b7ba-4fc6451c037c",
   "metadata": {},
   "outputs": [],
   "source": [
    "from tensorflow.keras.applications import imagenet_utils"
   ]
  },
  {
   "cell_type": "code",
   "execution_count": 10,
   "id": "e3b3f4a2-2d87-4d93-a8d3-9ad7c4a383e7",
   "metadata": {},
   "outputs": [],
   "source": [
    "logging.basicConfig(level=logging.DEBUG)"
   ]
  },
  {
   "cell_type": "code",
   "execution_count": 11,
   "id": "a0c28e55-9536-4af5-9177-84a36055493b",
   "metadata": {},
   "outputs": [
    {
     "name": "stdout",
     "output_type": "stream",
     "text": [
      "hello\n"
     ]
    }
   ],
   "source": [
    "print('hello')"
   ]
  },
  {
   "cell_type": "code",
   "execution_count": 12,
   "id": "a0d19e90-0eb3-4570-97b8-3358e98864a7",
   "metadata": {},
   "outputs": [],
   "source": [
    "# Fonction de test pour vérifier l'importation des modèles\n",
    "def test_model_import(model_name, model_class, weights='imagenet'):\n",
    "    try:\n",
    "        model = model_class(weights=weights)\n",
    "        logging.info(f\"{model_name} importé et chargé avec succès.\")\n",
    "        return model\n",
    "    except Exception as e:\n",
    "        logging.error(f\"Erreur lors de l'importation de {model_name}: {e}\")\n",
    "        return None"
   ]
  },
  {
   "cell_type": "code",
   "execution_count": 13,
   "id": "17518cd2-b5f7-4c8d-b0ca-cfe698851250",
   "metadata": {},
   "outputs": [
    {
     "name": "stderr",
     "output_type": "stream",
     "text": [
      "INFO:root:ResNet50V2 importé et chargé avec succès.\n"
     ]
    }
   ],
   "source": [
    "# Tester l'importation de ResNet50V2\n",
    "resnet50v2 = test_model_import(\"ResNet50V2\", ResNet50V2)"
   ]
  },
  {
   "cell_type": "code",
   "execution_count": 14,
   "id": "346b07c8-adee-49a3-8fcc-7d7b650e96ec",
   "metadata": {},
   "outputs": [],
   "source": [
    "# Mappage des identifiants de classes ImageNet à des noms de classes spécifiques\n",
    "class_name_mapping = {\n",
    "    'n01440764': 'tench',\n",
    "    'n01443537': 'goldfish',\n",
    "    'n01484850': 'great_white_shark',\n",
    "    'n01491361': 'tiger_shark',\n",
    "    'n01494475': 'hammerhead',\n",
    "    'n01496331': 'electric_ray',\n",
    "    'n01498041': 'stingray',\n",
    "    'n01514668': 'cock',\n",
    "    'n01514859': 'hen',\n",
    "    'n01518878': 'ostrich',\n",
    "    'n01530575': 'brambling',\n",
    "    'n01531178': 'goldfinch',\n",
    "    'n01532829': 'house_finch',\n",
    "    'n01534433': 'junco',\n",
    "    'n01537544': 'indigo_bunting',\n",
    "    \"n01558993\": \"robin\",\n",
    "    \"n01560419\": \"bulbul\",\n",
    "    \"n01580077\": \"jay\",\n",
    "    \"n01582220\": \"magpie\",\n",
    "    \"n01592084\": \"chickadee\",\n",
    "    \"n01601694\": \"water_ouzel\",\n",
    "    \"n01608432\": \"kite\",\n",
    "    \"n01614925\": \"bald_eagle\",\n",
    "    \"n01616318\": \"vulture\",\n",
    "    \"n01622779\": \"great_grey_owl\",\n",
    "    \"n01629819\": \"European_fire_salamander\",\n",
    "    \"n01630670\": \"common_newt\",\n",
    "    \"n01631663\": \"eft\",\n",
    "    \"n01632458\": \"spotted_salamander\",\n",
    "    \"n01632777\": \"axolotl\",\n",
    "    \"n01641577\": \"bullfrog\",\n",
    "    \"n01644373\": \"tree_frog\",\n",
    "    \"n01644900\": \"tailed_frog\",\n",
    "    \"n01664065\": \"loggerhead\",\n",
    "    \"n01665541\": \"leatherback_turtle\",\n",
    "     'n07873807': 'pizza',\n",
    "    'n07753592': 'banana',\n",
    "    'n02504458': 'African_elephant',\n",
    "    'n03291819': 'table',\n",
    "    'n02979186': 'camera',\n",
    "    'n03793489':'mouse',\n",
    "    'n03196217':'digital_clock',\n",
    "    'n04548280':'wall_clock',\n",
    "    'n03197337':'digital_watch',\n",
    "    'n04356056':'sunglasses',\n",
    "    'n03085013':'computer_keyboard',\n",
    "    'n03180011':'desktop_computer',\n",
    "    'n04355933':'sunglass',\n",
    "    'n02948072':'candle',\n",
    "    'n03594734':'jean',\n",
    "    'n02999410':'chain',\n",
    "    'n04120489':'running_shoe',\n",
    "    'n04370456':'sweatshirt',\n",
    "    'n03617480':'kimono',\n",
    "    'n03916031':'perfume',\n",
    "    'n04069434':'reflex_camera',\n",
    "    'n03976467':'Polaroid_camera',\n",
    "    'n04350905':'suit',\n",
    "    'n03047690':'clog',\n",
    "    'n03595614':'jersey',\n",
    "    'n04264628':'space_bar'\n",
    "}\n"
   ]
  },
  {
   "cell_type": "code",
   "execution_count": 15,
   "id": "d012b250-6435-4bd4-9571-c0513cd5a2d5",
   "metadata": {},
   "outputs": [],
   "source": [
    "# Crée un dossier pour les images traitées\n",
    "processed_image_folder = 'processed_images'\n",
    "os.makedirs(processed_image_folder, exist_ok=True)"
   ]
  },
  {
   "cell_type": "code",
   "execution_count": 16,
   "id": "1ee3bf0c-04ef-4148-a33b-1614fff7e28a",
   "metadata": {},
   "outputs": [],
   "source": [
    "def predict_image_class(img_path):\n",
    "    img = cv2.imread(img_path)\n",
    "    if img is None:\n",
    "        raise ValueError(f\"Impossible de charger l'image à partir du chemin: {img_path}\")\n",
    "    \n",
    "    img = cv2.cvtColor(img, cv2.COLOR_BGR2RGB)\n",
    "    img = cv2.resize(img, (224, 224))\n",
    "\n",
    "\n",
    "# Sauvegarde de l'image traitée\n",
    "    processed_image_path = os.path.join(processed_image_folder, os.path.basename(img_path))\n",
    "    cv2.imwrite(processed_image_path, cv2.cvtColor(img, cv2.COLOR_RGB2BGR))\n",
    "    logging.info(f\"Image traitée sauvegardée dans : {processed_image_path}\")\n",
    "\n",
    "    resized_img = np.expand_dims(img, axis=0)\n",
    "    final_image = preprocess_input(resized_img)\n",
    "\n",
    "    predictions = resnet50v2.predict(final_image)\n",
    "    results = imagenet_utils.decode_predictions(predictions)\n",
    "\n",
    "    # Affichage des résultats de la prédiction\n",
    "    predicted_class, _, _ = results[0][0]\n",
    "    logging.debug(f\"Classe prédite par le modèle (avant mappage): {predicted_class}\")\n",
    "\n",
    "    # Mappage de la classe prédite à une classe plus spécifique (si disponible)\n",
    "    mapped_class = class_name_mapping.get(predicted_class, 'Classe inconnue')\n",
    "    logging.debug(f\"Classe après mappage: {mapped_class}\")\n",
    "\n",
    "    predicted_class_folder = 'dataset/' + mapped_class.lower()\n",
    "\n",
    "    if not os.path.exists(predicted_class_folder):\n",
    "        raise ValueError(f\"Le dossier pour la classe {mapped_class} n'existe pas dans le chemin {predicted_class_folder}\")\n",
    "    \n",
    "    class_images = glob(predicted_class_folder + '/*.jpg')\n",
    "    class_images = [os.path.basename(image_path) for image_path in class_images]\n",
    "\n",
    "    # Affichage des images similaires trouvées\n",
    "    logging.debug(f\"Images similaires trouvées: {class_images}\")\n",
    "\n",
    "    return predicted_class_folder, class_images\n"
   ]
  },
  {
   "cell_type": "code",
   "execution_count": 17,
   "id": "8d1c1cf8-5bf9-4fa3-98e7-45df711db985",
   "metadata": {},
   "outputs": [
    {
     "name": "stderr",
     "output_type": "stream",
     "text": [
      "INFO:root:Image traitée sauvegardée dans : processed_images\\candle1.jpg\n",
      "DEBUG:root:Classe prédite par le modèle (avant mappage): n02948072\n",
      "DEBUG:root:Classe après mappage: candle\n",
      "ERROR:root:Erreur lors de la prédiction : Le dossier pour la classe candle n'existe pas dans le chemin dataset/candle\n"
     ]
    }
   ],
   "source": [
    "# Test de la fonction avec une image existante\n",
    "if __name__ == '__main__':\n",
    "    test_image_path = 'front/public/dataset/candle/candle1.jpg'  # Chemin de l'image à tester\n",
    "    try:\n",
    "        if resnet50v2:  # Vérifie si le modèle a été correctement chargé\n",
    "            predicted_class_folder, class_images = predict_image_class(test_image_path)\n",
    "            print(f\"Classe prédite : {predicted_class_folder}\")\n",
    "            print(f\"Images similaires : {class_images}\")\n",
    "        else:\n",
    "            logging.error(\"Le modèle ResNet50V2 n'a pas pu être chargé. Impossible de continuer.\")\n",
    "    except Exception as e:\n",
    "        logging.error(f\"Erreur lors de la prédiction : {str(e)}\")\n"
   ]
  },
  {
   "cell_type": "code",
   "execution_count": null,
   "id": "b317803f-2fed-4c82-8942-2ee2a3c10526",
   "metadata": {},
   "outputs": [],
   "source": []
  }
 ],
 "metadata": {
  "kernelspec": {
   "display_name": "Python 3 (ipykernel)",
   "language": "python",
   "name": "python3"
  },
  "language_info": {
   "codemirror_mode": {
    "name": "ipython",
    "version": 3
   },
   "file_extension": ".py",
   "mimetype": "text/x-python",
   "name": "python",
   "nbconvert_exporter": "python",
   "pygments_lexer": "ipython3",
   "version": "3.8.20"
  }
 },
 "nbformat": 4,
 "nbformat_minor": 5
}
